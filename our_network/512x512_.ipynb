{
  "cells": [
    {
      "cell_type": "code",
      "source": [
        "from google.colab import drive\n",
        "\n",
        "# This will display the contents of your Google Drive's root directory if mounted,\n",
        "# otherwise, it will throw an error.\n",
        "try:\n",
        "    drive.mount('/content/drive')\n",
        "    print(\"Google Drive is mounted.\")\n",
        "except:\n",
        "    print(\"Google Drive is not mounted.\")\n"
      ],
      "metadata": {
        "id": "1JVz3mV6QsXh"
      },
      "execution_count": null,
      "outputs": []
    },
    {
      "cell_type": "code",
      "source": [
        "import torch\n",
        "import torchvision\n",
        "import torch.nn as nn\n",
        "import torch.optim as optim\n",
        "import torchvision.transforms as transforms\n",
        "from torch.utils.data import DataLoader\n",
        "from tqdm import tqdm\n",
        "from IPython.display import clear_output\n",
        "import torchvision.datasets as dset\n",
        "import torchvision.utils as vutils\n",
        "from torch.utils.tensorboard import SummaryWriter\n",
        "import os\n",
        "\n",
        "# Hyperparameters etc.\n",
        "device = \"cuda\" if torch.cuda.is_available() else \"cpu\"\n",
        "LEARNING_RATE = 1e-4\n",
        "BATCH_SIZE = 32\n",
        "IMAGE_WIDTH = 512\n",
        "IMAGE_HEIGHT = 512\n",
        "CHANNELS_IMG = 1\n",
        "Z_DIM = 100\n",
        "NUM_EPOCHS = 1000\n",
        "FEATURES_CRITIC = 64\n",
        "FEATURES_GEN = 64\n",
        "CRITIC_ITERATIONS = 3\n",
        "LAMBDA_GP = 10\n",
        "\n",
        "\n",
        "\n",
        "checkpoint_dir = \"/content/drive/My Drive/GAN - Data Projekt/\"\n",
        "\n",
        "dataroot = \"/content/drive/My Drive/GAN - Data Projekt/Billeder(Trimmet)/Billeder (gode)\"  # dental radiography data/Good\"\n",
        "\n",
        "dataset = dset.ImageFolder(root=dataroot,\n",
        "                           transform=transforms.Compose([\n",
        "                               transforms.Resize((IMAGE_HEIGHT, IMAGE_WIDTH)),\n",
        "                               transforms.Grayscale(num_output_channels=1),  # Converts RGB to greyscale\n",
        "                               transforms.ToTensor(),\n",
        "                               transforms.Normalize((0.5), (0.5))  # Use a single value for mean and std\n",
        "                           ]))\n",
        "\n",
        "\n",
        "\n",
        "loader = DataLoader(\n",
        "    dataset,\n",
        "    batch_size=BATCH_SIZE,\n",
        "    shuffle=True,\n",
        "    num_workers=2,\n",
        "    pin_memory=True,\n",
        "    persistent_workers=True\n",
        ")\n",
        "\n",
        "\n",
        "device = \"cuda\" if torch.cuda.is_available() else \"cpu\"\n",
        "device\n"
      ],
      "metadata": {
        "id": "nqQwxtSEQvzE",
        "colab": {
          "base_uri": "https://localhost:8080/",
          "height": 36
        },
        "outputId": "3c842c25-5bdc-4ef7-d0bd-4908ea7be085"
      },
      "execution_count": null,
      "outputs": [
        {
          "output_type": "execute_result",
          "data": {
            "text/plain": [
              "'cuda'"
            ],
            "application/vnd.google.colaboratory.intrinsic+json": {
              "type": "string"
            }
          },
          "metadata": {},
          "execution_count": 4
        }
      ]
    },
    {
      "cell_type": "code",
      "source": [
        "# Check GPU information\n",
        "print(\"GPU Information:\")\n",
        "!nvidia-smi\n",
        "\n",
        "# Check CPU information\n",
        "print(\"\\nCPU Information:\")\n",
        "!lscpu"
      ],
      "metadata": {
        "id": "iszKe55VQxl2"
      },
      "execution_count": null,
      "outputs": []
    },
    {
      "cell_type": "code",
      "source": [
        "def gradient_penalty(critic, real, fake, device=\"cpu\"):\n",
        "    BATCH_SIZE, C, H, W = real.shape\n",
        "    #print(BATCH_SIZE, C, H, W)\n",
        "    alpha = torch.rand((BATCH_SIZE, 1, 1, 1)).repeat(1, C, H, W).to(device)\n",
        "    #print(f\"Real shape: {real.shape}, Fake shape: {fake.shape}\")\n",
        "    interpolated_images = real * alpha + fake * (1 - alpha)\n",
        "\n",
        "\n",
        "    # Calculate critic scores\n",
        "    mixed_scores = critic(interpolated_images)\n",
        "\n",
        "    # Take the gradient of the scores with respect to the images\n",
        "    gradient = torch.autograd.grad(\n",
        "        inputs=interpolated_images,\n",
        "        outputs=mixed_scores,\n",
        "        grad_outputs=torch.ones_like(mixed_scores),\n",
        "        create_graph=True,\n",
        "        retain_graph=True,\n",
        "    )[0]\n",
        "    gradient = gradient.view(gradient.shape[0], -1)\n",
        "    gradient_norm = gradient.norm(2, dim=1)\n",
        "    gradient_penalty = torch.mean((gradient_norm - 1) ** 2)\n",
        "    return gradient_penalty\n",
        "\n",
        "\n",
        "def save_checkpoint(state, filename=\"celeba_wgan_gp.pth.tar\"):\n",
        "    print(\"=> Saving checkpoint\")\n",
        "    torch.save(state, filename)\n",
        "\n",
        "\n",
        "\n"
      ],
      "metadata": {
        "id": "5IpjJMSXQy0c"
      },
      "execution_count": null,
      "outputs": []
    },
    {
      "cell_type": "code",
      "source": [
        "\n",
        "class Discriminator(nn.Module):\n",
        "    def __init__(self, img_channels, features_d):\n",
        "        super(Discriminator, self).__init__()\n",
        "        self.disc = nn.Sequential(\n",
        "            # 512x512 -> 256x256\n",
        "            nn.Conv2d(in_channels=img_channels, out_channels=features_d, kernel_size=4, stride=2, padding=1, bias=False),\n",
        "            nn.LeakyReLU(0.2),\n",
        "            # 256x256 -> 128x128\n",
        "            nn.Conv2d(in_channels=features_d, out_channels=features_d * 2, kernel_size=4, stride=2, padding=1, bias=False),\n",
        "            nn.InstanceNorm2d(num_features=features_d * 2, affine=True),\n",
        "            nn.LeakyReLU(0.2),\n",
        "             # 128x128 -> 64x64\n",
        "            nn.Conv2d(in_channels=features_d * 2, out_channels=features_d * 4, kernel_size=4, stride=2, padding=1, bias=False),\n",
        "            nn.InstanceNorm2d(num_features=features_d * 4, affine=True),\n",
        "            nn.LeakyReLU(0.2),\n",
        "             # 64x64 -> 32x32\n",
        "            nn.Conv2d(in_channels=features_d * 4, out_channels=features_d * 8, kernel_size=4, stride=2, padding=1, bias=False),\n",
        "            nn.InstanceNorm2d(num_features=features_d * 8, affine=True),\n",
        "            nn.LeakyReLU(0.2),\n",
        "             # 32x32 -> 16x16\n",
        "            nn.Conv2d(in_channels=features_d * 8, out_channels=features_d * 16, kernel_size=4, stride=2, padding=1, bias=False),\n",
        "            nn.InstanceNorm2d(num_features=features_d * 16, affine=True),\n",
        "            nn.LeakyReLU(0.2),\n",
        "            # 16x16 -> 8x8\n",
        "            nn.Conv2d(in_channels=features_d * 16, out_channels=features_d * 32, kernel_size=4, stride=2, padding=1, bias=False),\n",
        "            nn.InstanceNorm2d(num_features=features_d * 32, affine=True),\n",
        "            nn.LeakyReLU(0.2),\n",
        "            # 8x8 -> 4x4\n",
        "            nn.Conv2d(in_channels=features_d * 32, out_channels=features_d * 64, kernel_size=4, stride=2, padding=1, bias=False),\n",
        "            nn.InstanceNorm2d(num_features=features_d * 64, affine=True),\n",
        "            nn.LeakyReLU(0.2),\n",
        "            # 4x4 -> 1x1\n",
        "            nn.Conv2d(in_channels=features_d * 64, out_channels=1, kernel_size=4, stride=2, padding=0, bias=False),\n",
        "        )\n",
        "\n",
        "    def forward(self, x):\n",
        "        return self.disc(x)\n",
        "\n",
        "\n",
        "class Generator(nn.Module):\n",
        "    def __init__(self, channels_noise, channels_img, features_g):\n",
        "        super(Generator, self).__init__()\n",
        "        self.net = nn.Sequential(\n",
        "            # Input: N x channels_noise x 1 x 1\n",
        "            # img: 4x4\n",
        "            nn.ConvTranspose2d(in_channels=channels_noise, out_channels=features_g * 64, kernel_size=4, stride=1, padding=0, bias=False),\n",
        "            nn.BatchNorm2d(num_features=features_g * 64),\n",
        "            nn.ReLU(),\n",
        "            # img: 8x8\n",
        "            nn.ConvTranspose2d(in_channels=features_g * 64, out_channels=features_g * 32, kernel_size=4, stride=2, padding=1, bias=False),\n",
        "            nn.BatchNorm2d(num_features=features_g * 32),\n",
        "            nn.ReLU(),\n",
        "            # img: 16x16\n",
        "            nn.ConvTranspose2d(in_channels=features_g * 32, out_channels=features_g * 16, kernel_size=4, stride=2, padding=1, bias=False),\n",
        "            nn.BatchNorm2d(num_features=features_g * 16),\n",
        "            nn.ReLU(),\n",
        "            # img: 32x32\n",
        "            nn.ConvTranspose2d(in_channels=features_g * 16, out_channels=features_g * 8, kernel_size=4, stride=2, padding=1, bias=False),\n",
        "            nn.BatchNorm2d(num_features=features_g * 8),\n",
        "            nn.ReLU(),\n",
        "            # img: 64x64\n",
        "            nn.ConvTranspose2d(in_channels=features_g * 8, out_channels=features_g * 4, kernel_size=4, stride=2, padding=1, bias=False),\n",
        "            nn.BatchNorm2d(num_features=features_g * 4),\n",
        "            nn.ReLU(),\n",
        "             # img: 128x128\n",
        "            nn.ConvTranspose2d(in_channels=features_g * 4, out_channels=features_g * 2, kernel_size=4, stride=2, padding=1, bias=False),\n",
        "            nn.BatchNorm2d(num_features=features_g * 2),\n",
        "            nn.ReLU(),\n",
        "            # img: 256x256\n",
        "            nn.ConvTranspose2d(in_channels=features_g * 2, out_channels=features_g, kernel_size=4, stride=2, padding=1, bias=False),\n",
        "            nn.BatchNorm2d(num_features=features_g),\n",
        "            nn.ReLU(),\n",
        "            # img: 512x512\n",
        "            nn.ConvTranspose2d(in_channels=features_g, out_channels=channels_img, kernel_size=4, stride=2, padding=1, bias=False),\n",
        "            nn.Tanh(),  # Output: N x channels_img x 512 x 512\n",
        "        )\n",
        "\n",
        "    def forward(self, x):\n",
        "        return self.net(x)\n",
        "\n"
      ],
      "metadata": {
        "id": "4oP0ngnXQ1fn"
      },
      "execution_count": null,
      "outputs": []
    },
    {
      "cell_type": "code",
      "source": [
        "def initialize_weights(model):\n",
        "    # Initializes weights according to the DCGAN paper\n",
        "    for m in model.modules():\n",
        "        if isinstance(m, (nn.Conv2d, nn.ConvTranspose2d, nn.BatchNorm2d)):\n",
        "            nn.init.normal_(m.weight.data, 0.0, 0.02)\n",
        "\n",
        "\n"
      ],
      "metadata": {
        "id": "nD_IN3i_Q27N"
      },
      "execution_count": null,
      "outputs": []
    },
    {
      "cell_type": "code",
      "source": [
        "# Initialize the generator and critic\n",
        "gen = Generator(Z_DIM, CHANNELS_IMG, FEATURES_GEN).to(device)\n",
        "critic = Discriminator(CHANNELS_IMG, FEATURES_CRITIC).to(device)\n",
        "initialize_weights(gen)\n",
        "initialize_weights(critic)\n",
        "\n",
        "# Initialize the optimizers\n",
        "opt_gen = optim.Adam(gen.parameters(), lr=LEARNING_RATE, betas=(0.0, 0.9))\n",
        "opt_critic = optim.Adam(critic.parameters(), lr=LEARNING_RATE, betas=(0.0, 0.9))\n",
        "\n",
        "# Initialize TensorBoard writer\n",
        "writer_real = SummaryWriter()\n",
        "writer_fake = SummaryWriter()"
      ],
      "metadata": {
        "id": "2DLv6xtlQ4MH"
      },
      "execution_count": null,
      "outputs": []
    },
    {
      "cell_type": "code",
      "source": [
        "%reload_ext tensorboard\n",
        "%tensorboard --logdir=runs"
      ],
      "metadata": {
        "id": "kSUFSrg-YPAY"
      },
      "execution_count": null,
      "outputs": []
    },
    {
      "cell_type": "code",
      "source": [
        "def load_checkpoint(filename, model, optimizer, model_key, optimizer_key):\n",
        "    print(\"=> Loading checkpoint\")\n",
        "    checkpoint = torch.load(filename)\n",
        "    model.load_state_dict(checkpoint[model_key])\n",
        "    optimizer.load_state_dict(checkpoint[optimizer_key])\n",
        "    return checkpoint['epoch']"
      ],
      "metadata": {
        "id": "XuJjOVUyWWup"
      },
      "execution_count": null,
      "outputs": []
    },
    {
      "cell_type": "code",
      "source": [
        "start_epoch = 400\n",
        "checkpoint_path = os.path.join(checkpoint_dir, \"checkpoint_epoch_400_512x512.pth\")\n",
        "if os.path.exists(checkpoint_path):\n",
        "    start_epoch = load_checkpoint(checkpoint_path, gen, opt_gen, 'gen_state_dict', 'gen_optimizer')\n",
        "    load_checkpoint(checkpoint_path, critic, opt_critic, 'critic_state_dict', 'critic_optimizer')\n",
        "    start_epoch += 1  # To continue from the next epoch"
      ],
      "metadata": {
        "id": "17WGDkh3UZtm"
      },
      "execution_count": null,
      "outputs": []
    },
    {
      "cell_type": "code",
      "source": [
        "gen.train()\n",
        "critic.train()\n",
        "\n",
        "\n",
        "# Training loop\n",
        "for epoch in range(NUM_EPOCHS):\n",
        "    loop = tqdm(loader, leave=True)\n",
        "    for batch_idx, (real, _) in enumerate(loop):\n",
        "        real = real.to(device)\n",
        "        cur_batch_size = real.shape[0]\n",
        "\n",
        "        # Generate fake images\n",
        "        noise = torch.randn(cur_batch_size, Z_DIM, 1, 1).to(device)\n",
        "        fake = gen(noise)\n",
        "\n",
        "        # Train Critic\n",
        "        for _ in range(CRITIC_ITERATIONS):\n",
        "            critic_real = critic(real).reshape(-1)\n",
        "            critic_fake = critic(fake).reshape(-1)\n",
        "            gp = gradient_penalty(critic, real, fake, device=device)\n",
        "            loss_critic = (\n",
        "                -(torch.mean(critic_real) - torch.mean(critic_fake)) + LAMBDA_GP * gp\n",
        "            )\n",
        "            critic.zero_grad()\n",
        "            loss_critic.backward(retain_graph=True)\n",
        "            opt_critic.step()\n",
        "\n",
        "        # Train Generator\n",
        "        gen_fake = critic(fake).reshape(-1)\n",
        "        loss_gen = -torch.mean(gen_fake)\n",
        "        gen.zero_grad()\n",
        "        loss_gen.backward()\n",
        "        opt_gen.step()\n",
        "\n",
        "        # Log the losses to TensorBoard\n",
        "        if batch_idx % 10 == 0:\n",
        "            writer_real.add_scalar(\"Critic Loss\", loss_critic.item(), global_step=epoch * len(loader) + batch_idx)\n",
        "            writer_fake.add_scalar(\"Generator Loss\", loss_gen.item(), global_step=epoch * len(loader) + batch_idx)\n",
        "\n",
        "            with torch.no_grad():\n",
        "                fake = gen(noise).detach().cpu()\n",
        "                img_grid_real = torchvision.utils.make_grid(real[:32], normalize=True)\n",
        "                img_grid_fake = torchvision.utils.make_grid(fake[:32], normalize=True)\n",
        "\n",
        "                writer_real.add_image(\"Real Images\", img_grid_real, global_step=epoch * len(loader) + batch_idx)\n",
        "                writer_fake.add_image(\"Fake Images\", img_grid_fake, global_step=epoch * len(loader) + batch_idx)\n",
        "\n",
        "        # Update the progress bar\n",
        "        loop.set_postfix(loss_critic=loss_critic.item(), loss_gen=loss_gen.item())\n",
        "\n",
        "    print(f\"Completed Epoch {epoch+1}/{NUM_EPOCHS}.\")  # Confirms the completion of the current epoch\n",
        "\n",
        "    # Save the model checkpoint after 50 epochs\n",
        "    if (epoch + 1) % 50 == 0:\n",
        "        checkpoint = {\n",
        "            \"epoch\": epoch,\n",
        "            \"gen_state_dict\": gen.state_dict(),\n",
        "            \"critic_state_dict\": critic.state_dict(),\n",
        "            \"gen_optimizer\": opt_gen.state_dict(),\n",
        "            \"critic_optimizer\": opt_critic.state_dict(),\n",
        "        }\n",
        "        save_checkpoint(checkpoint, filename=os.path.join(checkpoint_dir, f\"checkpoint_epoch_{epoch+1}_512x512.pth\"))\n",
        "\n",
        "\n",
        "# Close the TensorBoard writers\n",
        "writer_real.close()\n",
        "writer_fake.close()"
      ],
      "metadata": {
        "id": "B6M7Hnd2Q7C_"
      },
      "execution_count": null,
      "outputs": []
    }
  ],
  "metadata": {
    "colab": {
      "provenance": [],
      "machine_shape": "hm",
      "gpuType": "A100"
    },
    "kernelspec": {
      "display_name": "Python 3",
      "name": "python3"
    },
    "accelerator": "GPU"
  },
  "nbformat": 4,
  "nbformat_minor": 0
}